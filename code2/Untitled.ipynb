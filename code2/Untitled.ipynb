{
 "cells": [
  {
   "cell_type": "code",
   "execution_count": 1,
   "id": "d84277f0-49f6-46a7-89ec-45eca8c7bd14",
   "metadata": {},
   "outputs": [],
   "source": [
    "import pandas as pd \n",
    "import pickle"
   ]
  },
  {
   "cell_type": "code",
   "execution_count": 18,
   "id": "d924afa7-5efe-4611-833e-155e3ca7a845",
   "metadata": {},
   "outputs": [],
   "source": [
    "with open('data2.p','rb') as f:\n",
    "    dic_data = pickle.load(f)\n",
    "    students = dic_data[\"student\"]\n",
    "    pairs = dic_data[\"pair\"]\n",
    "    classes = dic_data[\"class\"]"
   ]
  },
  {
   "cell_type": "code",
   "execution_count": 19,
   "id": "70edf7db-d040-42f2-81c9-061339b06e74",
   "metadata": {},
   "outputs": [],
   "source": [
    "def find_object(object_list,key,by):\n",
    "    index = []\n",
    "    for i in range(len(object_list)):\n",
    "        if object_list[i].__dict__[by] == key:\n",
    "            index.append(i)\n",
    "        else:\n",
    "            pass\n",
    "    return index"
   ]
  },
  {
   "cell_type": "code",
   "execution_count": 7,
   "id": "99a23b39-ae47-4004-89fd-5a432d9132da",
   "metadata": {},
   "outputs": [
    {
     "data": {
      "text/plain": [
       "[67]"
      ]
     },
     "execution_count": 7,
     "metadata": {},
     "output_type": "execute_result"
    }
   ],
   "source": [
    "find_object(students,\"李元昊\",'name')"
   ]
  },
  {
   "cell_type": "code",
   "execution_count": 9,
   "id": "cf0a800e-963e-4a84-9669-4212cf71572d",
   "metadata": {},
   "outputs": [
    {
     "data": {
      "text/plain": [
       "('李元昊', ['凤求凰 周二 18:10-19:10'])"
      ]
     },
     "execution_count": 9,
     "metadata": {},
     "output_type": "execute_result"
    }
   ],
   "source": [
    "students[67].name,students[67].candidate_class"
   ]
  },
  {
   "cell_type": "code",
   "execution_count": 12,
   "id": "0ce9c4af-e130-4d0d-9db3-bc122b6bb045",
   "metadata": {},
   "outputs": [
    {
     "name": "stdout",
     "output_type": "stream",
     "text": [
      "赵桐 1614852604.0 1\n",
      "李静蕾 1614852614.0 1\n",
      "毕然 1614852617.0 1\n",
      "凌桢婷 1614852658.0 1\n",
      "娄晓菲 1614852723.0 1\n",
      "周婉然 1614852786.0 1\n",
      "李文睿 1614852788.0 1\n",
      "刘熠阳 1614852832.0 1\n",
      "孔德然 1614852890.0 1\n",
      "王域槟 1614852928.0 1\n",
      "郑亦楠 1614852963.0 1\n",
      "魏熙琳 1614852967.0 1\n",
      "刘灏 1614852972.0 1\n",
      "蒋怡帆 1614852983.0 1\n",
      "普灵翎 1614853003.0 1\n",
      "栾凯琪 1614853003.0 1\n",
      "王钦 1614853028.0 1\n",
      "孔德然（上一遍选错了，这一个为准） 1614853039.0 1\n",
      "张晓钰 1614853210.0 1\n",
      "张笑言 1614853262.0 1\n",
      "魏思琛 1614853277.0 1\n",
      "周笛尔 1614853284.0 1\n",
      "陈凯昕 1614853294.0 1\n",
      "贾宇晞 1614853629.0 1\n",
      "丁雅芬 1614853736.0 1\n",
      "余晓桐 1614853798.0 1\n",
      "宋思聪 1614853813.0 1\n",
      "金朗旭 1614853916.0 1\n",
      "郑媛弋 1614853920.0 1\n",
      "马杨海逸 1614853920.0 1\n",
      "杨冰 1614854014.0 1\n",
      "石婉彤 1614854202.0 1\n",
      "陈倚慧 1614854274.0 1\n",
      "梁译文 1614854666.0 1\n",
      "车冬昀 1614854744.0 1\n",
      "胡钰函 1614854751.0 1\n",
      "李艳姝 1614854931.0 1\n",
      "杨官霖【第二次填，这次为准谢谢】 1614855035.0 1\n",
      "于卓涵 1614855286.0 1\n",
      "谢伊淇 1614855308.0 1\n",
      "王艺霖 1614855637.0 1\n",
      "李子君 1614855760.0 1\n",
      "东蕊 1614856690.0 1\n",
      "庞澍 1614856845.0 1\n",
      "蔺殊嘉 1614856880.0 1\n",
      "李嵋 1614857039.0 1\n",
      "李佳璇 1614857209.0 1\n",
      "冯意如 1614857828.0 1\n",
      "韦安淇 1614858819.0 1\n",
      "赵舜雨 1614858925.0 1\n",
      "李元昊 1614859120.0 1\n",
      "朱烨 1614859532.0 1\n",
      "徐睿 1614859645.0 1\n",
      "刘雯钰 1614860749.0 1\n",
      "陈雨萌 1614861944.0 1\n",
      "陈杨彤 1614862648.0 1\n",
      "孙静雯 1614863086.0 1\n",
      "吕宗行 1614863551.0 1\n",
      "魏铭宣 1614863967.0 1\n",
      "王涵琪 1614864154.0 1\n",
      "谢尚苡 1614864159.0 1\n",
      "柳万丝 1614864693.0 1\n",
      "彭爽 1614865659.0 1\n",
      "葛润华 1614870699.0 1\n",
      "林希 1614852553.0 2\n",
      "农丰铭 1614852688.0 2\n",
      "朱善妮 1614852786.0 2\n",
      "符澄彦 1614853009.0 2\n",
      "高明月 1614853222.0 2\n",
      "曾骏依 1614853224.0 2\n",
      "唐晖雅 1614853311.0 2\n",
      "薛仪婷 1614854041.0 2\n",
      "杨官霖 1614854559.0 2\n",
      "李心怡 1614855539.0 2\n",
      "李嵋 1614855570.0 2\n",
      "刘熠清 1614855827.0 2\n",
      "杜嘉琦 1614857631.0 2\n",
      "张诗琪 1614859088.0 2\n",
      "钟偲睿 1614860008.0 2\n",
      "王淳羚 1614861764.0 2\n",
      "李珺如 1614852234.0 3\n",
      "王亦淳 1614852487.0 3\n",
      "刘奕含 1614856475.0 3\n",
      "段丽洋 1614864116.0 3\n",
      "蔡月晴 1614865529.0 3\n"
     ]
    }
   ],
   "source": [
    "for i in sorted(students,key=lambda x:(x.DF,x.finish_time)):\n",
    "    print(i.name,i.finish_time,i.DF)"
   ]
  },
  {
   "cell_type": "code",
   "execution_count": 20,
   "id": "3efa63a0-17c5-4910-b00e-cf5feeee7bea",
   "metadata": {},
   "outputs": [
    {
     "name": "stdout",
     "output_type": "stream",
     "text": [
      "周婉然 李文睿 1614852786.0 1\n",
      "刘熠阳 蒋怡帆 1614852832.0 1\n",
      "郑亦楠 魏熙琳 1614852963.0 1\n",
      "普灵翎 栾凯琪 1614853003.0 1\n",
      "张笑言 周笛尔 1614853262.0 1\n",
      "陈倚慧 陈杨彤 1614854274.0 1\n",
      "高明月 曾骏依 1614853222.0 2\n"
     ]
    }
   ],
   "source": [
    "for i in sorted(pairs,key=lambda x:(x.DF,x.finish_time)):\n",
    "    print(i.name1,i.name2,i.finish_time,i.DF)"
   ]
  },
  {
   "cell_type": "code",
   "execution_count": 16,
   "id": "d04a24fc-e4fb-4309-87e9-4c25ab68a639",
   "metadata": {},
   "outputs": [
    {
     "data": {
      "text/plain": [
       "[]"
      ]
     },
     "execution_count": 16,
     "metadata": {},
     "output_type": "execute_result"
    }
   ],
   "source": [
    "pairs"
   ]
  },
  {
   "cell_type": "code",
   "execution_count": 22,
   "id": "7273adcf-38fa-4e7b-9744-dcb89a1457e3",
   "metadata": {},
   "outputs": [
    {
     "data": {
      "text/plain": [
       "[3, 1, 2, 4]"
      ]
     },
     "execution_count": 22,
     "metadata": {},
     "output_type": "execute_result"
    }
   ],
   "source": [
    "import random\n",
    "a = [1,2,3,4]\n",
    "random.shuffle(a)\n",
    "a"
   ]
  },
  {
   "cell_type": "code",
   "execution_count": 23,
   "id": "7c262d59-a3fb-4d9f-baff-fb0b3bbe4067",
   "metadata": {},
   "outputs": [
    {
     "data": {
      "text/plain": [
       "[1, 2, 3, 4]"
      ]
     },
     "execution_count": 23,
     "metadata": {},
     "output_type": "execute_result"
    }
   ],
   "source": [
    "sorted(a)"
   ]
  },
  {
   "cell_type": "code",
   "execution_count": 24,
   "id": "1c549229-357f-49d5-8995-2429d8e5a796",
   "metadata": {},
   "outputs": [],
   "source": [
    "with open('data3.p','rb') as f:\n",
    "    x = pickle.load(f)"
   ]
  },
  {
   "cell_type": "code",
   "execution_count": 25,
   "id": "4741da92-3c6b-45a3-9661-30eb37500979",
   "metadata": {},
   "outputs": [
    {
     "data": {
      "text/plain": [
       "[<course.Course at 0x7f20b280fc70>,\n",
       " <course.Course at 0x7f20b280f3a0>,\n",
       " <course.Course at 0x7f20b280fac0>,\n",
       " <course.Course at 0x7f20b280f670>,\n",
       " <course.Course at 0x7f20b280f700>,\n",
       " <course.Course at 0x7f20b280f250>,\n",
       " <course.Course at 0x7f20b280f910>,\n",
       " <course.Course at 0x7f20b280fa00>,\n",
       " <course.Course at 0x7f20b280f2b0>]"
      ]
     },
     "execution_count": 25,
     "metadata": {},
     "output_type": "execute_result"
    }
   ],
   "source": [
    "x[2]"
   ]
  },
  {
   "cell_type": "code",
   "execution_count": 27,
   "id": "3018005c-8ce7-4e25-8450-cd44dc183e13",
   "metadata": {},
   "outputs": [
    {
     "name": "stdout",
     "output_type": "stream",
     "text": [
      "凤求凰 周二 18:10-19:10 30 18\n",
      "子夜吴歌 周四 19:30-20:30 27 17\n",
      "湘江怨 周三 19:30-20:30 24 23\n",
      "太古引 周一 19:30-20:30 11 11\n",
      "春晓吟 周四 18:10-19:10 5 4\n",
      "归去来辞 周二 19:30-20:30 5 4\n",
      "秋江夜泊 周一 18:10-19:10 5 4\n",
      "仙翁操 周三 18:10-19:10 3 3\n",
      "(空) 1 1\n"
     ]
    }
   ],
   "source": [
    "for i in x[2]:\n",
    "    print(i.name, i.frequency, i.current_num)"
   ]
  },
  {
   "cell_type": "code",
   "execution_count": 33,
   "id": "54984126-631a-4b1d-861f-b346ff6abab4",
   "metadata": {},
   "outputs": [],
   "source": [
    "def to_txt(classes):\n",
    "    str = \"\"\n",
    "    for i in classes:\n",
    "        str+=('\\n****************************\\n%s\\n被选次数: %d, 人数:%d\\n'%(i.name,i.frequency,i.current_num))\n",
    "        for j in i.students:\n",
    "            str+=('%s\\n'%j.name)\n",
    "        for j in i.pairs:\n",
    "            str+=('%s\\t%s\\n'%(j.name1,j.name2))\n",
    "    return str"
   ]
  },
  {
   "cell_type": "code",
   "execution_count": 34,
   "id": "48b96824-0d4b-4d92-9e7c-73063e3c0e9e",
   "metadata": {},
   "outputs": [
    {
     "name": "stdout",
     "output_type": "stream",
     "text": [
      "\n",
      "****************************\n",
      "凤求凰 周二 18:10-19:10\n",
      "被选次数: 30, 人数:18\n",
      "赵桐\n",
      "李静蕾\n",
      "娄晓菲\n",
      "孔德然\n",
      "王域槟\n",
      "陈凯昕\n",
      "胡钰函\n",
      "谢伊淇\n",
      "蔺殊嘉\n",
      "李嵋\n",
      "冯意如\n",
      "李元昊\n",
      "朱烨\n",
      "陈雨萌\n",
      "魏铭宣\n",
      "彭爽\n",
      "周婉然\t李文睿\n",
      "\n",
      "****************************\n",
      "子夜吴歌 周四 19:30-20:30\n",
      "被选次数: 27, 人数:17\n",
      "王钦\n",
      "杨冰\n",
      "石婉彤\n",
      "王艺霖\n",
      "刘雯钰\n",
      "吕宗行\n",
      "葛润华\n",
      "林希\n",
      "薛仪婷\n",
      "刘熠阳\t蒋怡帆\n",
      "郑亦楠\t魏熙琳\n",
      "普灵翎\t栾凯琪\n",
      "陈倚慧\t陈杨彤\n",
      "\n",
      "****************************\n",
      "湘江怨 周三 19:30-20:30\n",
      "被选次数: 24, 人数:23\n",
      "毕然\n",
      "凌桢婷\n",
      "张晓钰\n",
      "魏思琛\n",
      "丁雅芬\n",
      "郑媛弋\n",
      "杨官霖【第二次填，这次为准谢谢】\n",
      "李子君\n",
      "李佳璇\n",
      "赵舜雨\n",
      "徐睿\n",
      "农丰铭\n",
      "朱善妮\n",
      "唐晖雅\n",
      "杨官霖\n",
      "李心怡\n",
      "张诗琪\n",
      "钟偲睿\n",
      "王亦淳\n",
      "刘奕含\n",
      "段丽洋\n",
      "高明月\t曾骏依\n",
      "\n",
      "****************************\n",
      "太古引 周一 19:30-20:30\n",
      "被选次数: 11, 人数:11\n",
      "刘灏\n",
      "孔德然（上一遍选错了，这一个为准）\n",
      "贾宇晞\n",
      "余晓桐\n",
      "于卓涵\n",
      "庞澍\n",
      "李嵋\n",
      "王淳羚\n",
      "蔡月晴\n",
      "张笑言\t周笛尔\n",
      "\n",
      "****************************\n",
      "春晓吟 周四 18:10-19:10\n",
      "被选次数: 5, 人数:4\n",
      "东蕊\n",
      "柳万丝\n",
      "杜嘉琦\n",
      "李珺如\n",
      "\n",
      "****************************\n",
      "归去来辞 周二 19:30-20:30\n",
      "被选次数: 5, 人数:4\n",
      "金朗旭\n",
      "梁译文\n",
      "韦安淇\n",
      "符澄彦\n",
      "\n",
      "****************************\n",
      "秋江夜泊 周一 18:10-19:10\n",
      "被选次数: 5, 人数:4\n",
      "宋思聪\n",
      "马杨海逸\n",
      "车冬昀\n",
      "刘熠清\n",
      "\n",
      "****************************\n",
      "仙翁操 周三 18:10-19:10\n",
      "被选次数: 3, 人数:3\n",
      "李艳姝\n",
      "王涵琪\n",
      "谢尚苡\n",
      "\n",
      "****************************\n",
      "(空)\n",
      "被选次数: 1, 人数:1\n",
      "孙静雯\n",
      "\n"
     ]
    }
   ],
   "source": [
    "print(to_txt(x[2]))"
   ]
  },
  {
   "cell_type": "code",
   "execution_count": 3,
   "id": "b90e2a23-29c4-45e3-909a-9c08d5333612",
   "metadata": {},
   "outputs": [],
   "source": [
    "a = pd.Series([1,2,3,4,5,6,4])"
   ]
  },
  {
   "cell_type": "code",
   "execution_count": 5,
   "id": "4f852f24-a444-4053-92b1-bf3f4f19c037",
   "metadata": {},
   "outputs": [
    {
     "data": {
      "text/plain": [
       "0    False\n",
       "1    False\n",
       "2    False\n",
       "3    False\n",
       "4    False\n",
       "5    False\n",
       "6     True\n",
       "dtype: bool"
      ]
     },
     "execution_count": 5,
     "metadata": {},
     "output_type": "execute_result"
    }
   ],
   "source": [
    "a.duplicated()"
   ]
  },
  {
   "cell_type": "code",
   "execution_count": 9,
   "id": "18436783-45ac-4728-bd48-539596a88a8f",
   "metadata": {},
   "outputs": [
    {
     "name": "stdout",
     "output_type": "stream",
     "text": [
      "4\n"
     ]
    }
   ],
   "source": [
    "for i in a.loc[a.duplicated()]:\n",
    "    print(i)"
   ]
  },
  {
   "cell_type": "code",
   "execution_count": null,
   "id": "c47d9cfb-60aa-48b0-8de7-a5a8dcc4195e",
   "metadata": {},
   "outputs": [],
   "source": []
  }
 ],
 "metadata": {
  "kernelspec": {
   "display_name": "Python 3",
   "language": "python",
   "name": "python3"
  },
  "language_info": {
   "codemirror_mode": {
    "name": "ipython",
    "version": 3
   },
   "file_extension": ".py",
   "mimetype": "text/x-python",
   "name": "python",
   "nbconvert_exporter": "python",
   "pygments_lexer": "ipython3",
   "version": "3.8.5"
  }
 },
 "nbformat": 4,
 "nbformat_minor": 5
}
